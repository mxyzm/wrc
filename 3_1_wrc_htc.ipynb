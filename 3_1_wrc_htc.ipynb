{
 "cells": [
  {
   "cell_type": "markdown",
   "id": "c81b0444",
   "metadata": {},
   "source": [
    "## 安装依赖"
   ]
  },
  {
   "cell_type": "code",
   "execution_count": null,
   "id": "5d4e2b33",
   "metadata": {
    "tags": []
   },
   "outputs": [],
   "source": [
    "!pip install mmcv-full==1.2.4 #安装需要一段时间，请耐心等待，大概需要20min\n",
    "#!pip install terminaltables\n",
    "#!pip install pycocotools"
   ]
  },
  {
   "cell_type": "markdown",
   "id": "f24a8dcd-88f7-4b0f-8cfd-a8b687df7746",
   "metadata": {},
   "source": [
    "## 准备预训练模型"
   ]
  },
  {
   "cell_type": "code",
   "execution_count": null,
   "id": "eef69095-3a96-4760-9a7a-3aee99804ba7",
   "metadata": {},
   "outputs": [],
   "source": [
    "%cd ~/work/wrc_htc/pre"
   ]
  },
  {
   "cell_type": "code",
   "execution_count": null,
   "id": "4ef77b5f-b015-4c2a-920d-bbc7d624bd72",
   "metadata": {},
   "outputs": [],
   "source": [
    "# htc_r50_fpn_20e_coco\n",
    "!wget -c https://download.openmmlab.com/mmdetection/v2.0/htc/htc_r50_fpn_20e_coco/htc_r50_fpn_20e_coco_20200319-fe28c577.pth"
   ]
  },
  {
   "cell_type": "code",
   "execution_count": null,
   "id": "321b9556-678e-4116-b505-59f831c84b90",
   "metadata": {},
   "outputs": [],
   "source": [
    "# htc_r101_fpn_20e_coco\n",
    "!wget -c https://download.openmmlab.com/mmdetection/v2.0/htc/htc_r101_fpn_20e_coco/htc_r101_fpn_20e_coco_20200317-9b41b48f.pth"
   ]
  },
  {
   "cell_type": "code",
   "execution_count": null,
   "id": "10469bac-1ef2-4d0b-a44a-de5fc56e9988",
   "metadata": {},
   "outputs": [],
   "source": [
    "# htc_x101_64x4d_fpn_16x1_20e_coco\n",
    "!wget -c https://download.openmmlab.com/mmdetection/v2.0/htc/htc_x101_64x4d_fpn_16x1_20e_coco/htc_x101_64x4d_fpn_16x1_20e_coco_20200318-b181fd7a.pth"
   ]
  },
  {
   "cell_type": "code",
   "execution_count": null,
   "id": "9dee0cd3-78fe-4ec4-9191-03a0505995f0",
   "metadata": {},
   "outputs": [],
   "source": [
    "# htc_x101_64x4d_fpn_dconv_c3-c5_mstrain_400_1400_16x1_20e_coco\n",
    "!wget -c https://download.openmmlab.com/mmdetection/v2.0/htc/htc_x101_64x4d_fpn_dconv_c3-c5_mstrain_400_1400_16x1_20e_coco/htc_x101_64x4d_fpn_dconv_c3-c5_mstrain_400_1400_16x1_20e_coco_20200312-946fd751.pth"
   ]
  },
  {
   "cell_type": "markdown",
   "id": "501b90c3",
   "metadata": {},
   "source": [
    "## 模型训练"
   ]
  },
  {
   "cell_type": "code",
   "execution_count": null,
   "id": "f339e750",
   "metadata": {},
   "outputs": [],
   "source": [
    "%cd ~/work/wrc_htc/mmdetection/\n",
    "!python ./tools/train.py configs/htc/htc_wrc.py --work-dir \"/home/ma-user/work/wrc_htc/ckpt/\""
   ]
  }
 ],
 "metadata": {
  "AIGalleryInfo": {
   "item_id": "768f1e56-90ac-483e-abd4-5d741c669f6b"
  },
  "flavorInfo": {
   "architecture": "X86_64",
   "category": "GPU"
  },
  "imageInfo": {
   "id": "e1a07296-22a8-4f05-8bc8-e936c8e54099",
   "name": "pytorch1.4-cuda10.1-cudnn7-ubuntu18.04"
  },
  "kernelspec": {
   "display_name": "PyTorch-1.4",
   "language": "python",
   "name": "pytorch-1.4"
  },
  "language_info": {
   "codemirror_mode": {
    "name": "ipython",
    "version": 3
   },
   "file_extension": ".py",
   "mimetype": "text/x-python",
   "name": "python",
   "nbconvert_exporter": "python",
   "pygments_lexer": "ipython3",
   "version": "3.7.10"
  }
 },
 "nbformat": 4,
 "nbformat_minor": 5
}
