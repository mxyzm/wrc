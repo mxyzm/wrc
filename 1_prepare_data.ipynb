{
 "cells": [
  {
   "cell_type": "markdown",
   "id": "3ab50ec9-f913-4768-8670-50bdfebbd1fd",
   "metadata": {},
   "source": [
    "## 准备数据集"
   ]
  },
  {
   "cell_type": "code",
   "execution_count": null,
   "id": "fbad4994-3c1c-4022-aaa1-72bce64d1d1b",
   "metadata": {},
   "outputs": [],
   "source": [
    "!pip install imgviz\n",
    "!pip install labelme"
   ]
  },
  {
   "cell_type": "code",
   "execution_count": null,
   "id": "90f7d036-9ad0-4ff1-b59b-31ab0b340e70",
   "metadata": {},
   "outputs": [],
   "source": [
    "!unzip dataset_annotated.zip\n",
    "!python labelme2coco.py dataset_annotated dataset_coco --labels labels.txt\n",
    "#!mv dataset_coco ./wrc_htc/data/"
   ]
  },
  {
   "cell_type": "code",
   "execution_count": null,
   "id": "3c7edea6-7b3f-4b20-82a5-ff646ff4c44a",
   "metadata": {},
   "outputs": [],
   "source": [
    "# 分割数据集\n",
    "%cd ~/work/wrc_htc/data\n",
    "!git clone https://github.com/akarazniewicz/cocosplit.git\n",
    "%cd ./cocosplit\n",
    "!pip install -r requirements.txt\n",
    "%cd ../\n",
    "!python ./cocosplit/cocosplit.py --having-annotations --multi-class -s 0.8 ./dataset_coco/annotations.json ./dataset_coco/train.json ./dataset_coco/val.json"
   ]
  }
 ],
 "metadata": {
  "kernelspec": {
   "display_name": "PyTorch-1.4",
   "language": "python",
   "name": "pytorch-1.4"
  },
  "language_info": {
   "codemirror_mode": {
    "name": "ipython",
    "version": 3
   },
   "file_extension": ".py",
   "mimetype": "text/x-python",
   "name": "python",
   "nbconvert_exporter": "python",
   "pygments_lexer": "ipython3",
   "version": "3.7.10"
  }
 },
 "nbformat": 4,
 "nbformat_minor": 5
}
