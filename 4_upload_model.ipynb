{
 "cells": [
  {
   "cell_type": "markdown",
   "id": "054d518e-64a7-4593-a4cb-18b1cff668c1",
   "metadata": {},
   "source": [
    "## 将模型导入到 ModelArts AI 应用管理\n",
    "因为文件较多，需要等待一段时间\n",
    "导入完成，请前往ModelArts控制台尝试在线部署或者批量部署，成功后再提交至比赛"
   ]
  },
  {
   "cell_type": "code",
   "execution_count": null,
   "id": "7e4d0095-8220-4013-8145-6e6121f2f0fc",
   "metadata": {},
   "outputs": [],
   "source": [
    "# 拷贝训练好的最新模型\n",
    "%cd ~/work/wrc_htc/model/\n",
    "%cp ~/work/wrc_htc/ckpt/best_bbox_mAP.pth ./model_best.pth"
   ]
  },
  {
   "cell_type": "code",
   "execution_count": null,
   "id": "57a06542-0064-4be8-b8c4-62adefaed3fb",
   "metadata": {},
   "outputs": [],
   "source": [
    "# 拷贝修改过的配置文件\n",
    "%cd ~/work/wrc_htc/model/\n",
    "%cp -R ~/work/wrc_htc/mmdetection/mmdet ./\n",
    "%cp -R ~/work/wrc_htc/mmdetection/configs ./"
   ]
  },
  {
   "cell_type": "code",
   "execution_count": null,
   "id": "34176002-2d46-4005-ac2e-88d2c9bb6091",
   "metadata": {},
   "outputs": [],
   "source": [
    "%cd ~/work/wrc_htc/\n",
    "\n",
    "from modelarts.session import Session\n",
    "from modelarts.model import Model\n",
    "from modelarts.config.model_config import TransformerConfig,Params\n",
    "import moxing as mox\n",
    "import json\n",
    "import re\n",
    "import traceback\n",
    "import random\n",
    "\n",
    "try:\n",
    "    session = Session()\n",
    "    config_path = 'model/config.json' \n",
    "    if mox.file.exists(config_path):                                        # 判断一下是否存在配置文件，如果没有则不能导入模型\n",
    "        model_location =  'model'\n",
    "        model_name = \"wrc_htc\"\n",
    "        load_dict = json.loads(mox.file.read(config_path))\n",
    "        model_type = load_dict['model_type']\n",
    "        re_name = '_'+str(random.randint(0,1000))\n",
    "        model_name += re_name\n",
    "        print(\"正在导入模型,模型名称：\", model_name)\n",
    "        model_instance = Model(\n",
    "                     session, \n",
    "                     model_name=model_name,               # 模型名称\n",
    "                     model_version=\"1.0.0\",               # 模型版本\n",
    "                      source_location_type='LOCAL_SOURCE',\n",
    "                     source_location=model_location,      # 模型文件路径\n",
    "                     model_type=model_type,               # 模型类型\n",
    "                     )\n",
    "        print(\"所有模型导入完成\")\n",
    "    else:\n",
    "        print(\"模型包不存在\")\n",
    "    \n",
    "except Exception as e:\n",
    "    print(\"发生了一些问题，请看下面的报错信息：\") \n",
    "    traceback.print_exc()\n",
    "    print(\"模型导入失败\")"
   ]
  }
 ],
 "metadata": {
  "kernelspec": {
   "display_name": "PyTorch-1.4",
   "language": "python",
   "name": "pytorch-1.4"
  },
  "language_info": {
   "codemirror_mode": {
    "name": "ipython",
    "version": 3
   },
   "file_extension": ".py",
   "mimetype": "text/x-python",
   "name": "python",
   "nbconvert_exporter": "python",
   "pygments_lexer": "ipython3",
   "version": "3.7.10"
  }
 },
 "nbformat": 4,
 "nbformat_minor": 5
}
