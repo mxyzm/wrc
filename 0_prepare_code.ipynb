{
 "cells": [
  {
   "cell_type": "markdown",
   "id": "8a4287fe-2559-4b50-80f3-8853fce387ef",
   "metadata": {},
   "source": [
    "## 下载对应代码"
   ]
  },
  {
   "cell_type": "code",
   "execution_count": null,
   "id": "e5a0c9d3-b69a-4c51-851c-30441ed5cb85",
   "metadata": {},
   "outputs": [],
   "source": [
    "%cd ~/work\n",
    "!git clone https://github.com/mxyzm/wrc.git wrc_htc"
   ]
  },
  {
   "cell_type": "code",
   "execution_count": null,
   "id": "68f30a14-5444-4958-a5db-4e167313ab65",
   "metadata": {},
   "outputs": [],
   "source": [
    "# 原始代码\n",
    "%cd ~/work\n",
    "import moxing as mox\n",
    "mox.file.copy_parallel('obs://ma-competitions-bj4/wrc2022/wrc/','wrc_htc')"
   ]
  }
 ],
 "metadata": {
  "kernelspec": {
   "display_name": "PyTorch-1.4",
   "language": "python",
   "name": "pytorch-1.4"
  },
  "language_info": {
   "codemirror_mode": {
    "name": "ipython",
    "version": 3
   },
   "file_extension": ".py",
   "mimetype": "text/x-python",
   "name": "python",
   "nbconvert_exporter": "python",
   "pygments_lexer": "ipython3",
   "version": "3.7.10"
  }
 },
 "nbformat": 4,
 "nbformat_minor": 5
}
